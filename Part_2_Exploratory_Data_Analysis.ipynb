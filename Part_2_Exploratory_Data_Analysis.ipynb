{
 "cells": [
  {
   "cell_type": "markdown",
   "metadata": {
    "colab_type": "text",
    "id": "l0Y7_lgN4jzM"
   },
   "source": [
    "<div style=\"padding: 0.5em; background-color: #1876d1; color: #fff;\">\n",
    "\n",
    "### **[Part 2] Computational Drug Discovery - Exploratory Data Analysis**\n",
    "\n",
    "</div>\n",
    "In **Part 2**, we will be performing Descriptor Calculation and Exploratory Data Analysis.\n",
    "\n",
    "Note :\n",
    "* Target enzyme: Aromatase responsible for breast cancer\n",
    "* Objective: find compound that inhibit Aromatase function\n",
    "\n",
    "---\n",
    "<b># Bioinformatics Project </b>"
   ]
  },
  {
   "cell_type": "markdown",
   "metadata": {
    "colab_type": "text",
    "id": "o-4IOizard4P"
   },
   "source": [
    "## **Install conda and rdkit**"
   ]
  },
  {
   "cell_type": "code",
   "execution_count": null,
   "metadata": {
    "colab": {
     "base_uri": "https://localhost:8080/",
     "height": 1000
    },
    "colab_type": "code",
    "id": "H0mjQ2PcrSe5",
    "outputId": "8d2fe1f6-38d8-4733-ce31-665ae4502230",
    "scrolled": true
   },
   "outputs": [],
   "source": [
    "#! wget https://repo.anaconda.com/miniconda/Miniconda3-py37_4.8.2-Linux-x86_64.sh\n",
    "#! chmod +x Miniconda3-py37_4.8.2-Linux-x86_64.sh\n",
    "#! bash ./Miniconda3-py37_4.8.2-Linux-x86_64.sh -b -f -p /usr/local\n",
    "#! conda install -c rdkit rdkit -y\n",
    "import sys\n",
    "sys.path.append('/usr/local/lib/python3.7/site-packages/')"
   ]
  },
  {
   "cell_type": "markdown",
   "metadata": {
    "colab_type": "text",
    "id": "QmxXXFa4wTNG"
   },
   "source": [
    "## **Load bioactivity data**"
   ]
  },
  {
   "cell_type": "code",
   "execution_count": 2,
   "metadata": {
    "colab": {},
    "colab_type": "code",
    "id": "Fpu5C7HlwV9s"
   },
   "outputs": [],
   "source": [
    "import pandas as pd"
   ]
  },
  {
   "cell_type": "code",
   "execution_count": 6,
   "metadata": {
    "colab": {},
    "colab_type": "code",
    "id": "GCcE8J5XwjtB"
   },
   "outputs": [],
   "source": [
    "df = pd.read_csv('data/03-bioactivity_data_curated.csv')"
   ]
  },
  {
   "cell_type": "markdown",
   "metadata": {},
   "source": [
    "## **Calculate Lipinski descriptors**\n",
    "Christopher Lipinski, a scientist at Pfizer, came up with a set of rule-of-thumb for evaluating the **druglikeness** of compounds. Such druglikeness is based on the Absorption, Distribution, Metabolism and Excretion (ADME) that is also known as the pharmacokinetic profile. Lipinski analyzed all orally active FDA-approved drugs in the formulation of what is to be known as the **Rule-of-Five** or **Lipinski's Rule**.\n",
    "\n",
    "The Lipinski's Rule stated the following:\n",
    "* Molecular weight < 500 Dalton\n",
    "* Octanol-water partition coefficient (LogP) < 5\n",
    "* Hydrogen bond donors < 5\n",
    "* Hydrogen bond acceptors < 10 "
   ]
  },
  {
   "cell_type": "markdown",
   "metadata": {
    "colab_type": "text",
    "id": "9qn_eQcnxY7C"
   },
   "source": [
    "### **Import libraries**"
   ]
  },
  {
   "cell_type": "code",
   "execution_count": 14,
   "metadata": {
    "colab": {},
    "colab_type": "code",
    "id": "CgBjIdT-rnRU"
   },
   "outputs": [],
   "source": [
    "import numpy as np\n",
    "from rdkit import Chem\n",
    "from rdkit.Chem import Descriptors, Lipinski"
   ]
  },
  {
   "cell_type": "markdown",
   "metadata": {
    "colab_type": "text",
    "id": "JsgTV-ByxdMa"
   },
   "source": [
    "### **Calculate descriptors**"
   ]
  },
  {
   "cell_type": "code",
   "execution_count": 15,
   "metadata": {
    "colab": {},
    "colab_type": "code",
    "id": "bCXEY7a9ugO_"
   },
   "outputs": [],
   "source": [
    "# Inspired by: https://codeocean.com/explore/capsules?query=tag:data-curation\n",
    "\n",
    "def lipinski(smiles, verbose=False):\n",
    "\n",
    "    moldata= []\n",
    "    for elem in smiles:\n",
    "        mol=Chem.MolFromSmiles(elem) \n",
    "        moldata.append(mol)\n",
    "       \n",
    "    baseData= np.arange(1,1)\n",
    "    i=0  \n",
    "    for mol in moldata:        \n",
    "       \n",
    "        desc_MolWt = Descriptors.MolWt(mol)\n",
    "        desc_MolLogP = Descriptors.MolLogP(mol)\n",
    "        desc_NumHDonors = Lipinski.NumHDonors(mol)\n",
    "        desc_NumHAcceptors = Lipinski.NumHAcceptors(mol)\n",
    "           \n",
    "        row = np.array([desc_MolWt,\n",
    "                        desc_MolLogP,\n",
    "                        desc_NumHDonors,\n",
    "                        desc_NumHAcceptors])   \n",
    "    \n",
    "        if(i==0):\n",
    "            baseData=row\n",
    "        else:\n",
    "            baseData=np.vstack([baseData, row])\n",
    "        i=i+1      \n",
    "    \n",
    "    columnNames=[\"MW\",\"LogP\",\"NumHDonors\",\"NumHAcceptors\"]   \n",
    "    descriptors = pd.DataFrame(data=baseData,columns=columnNames)\n",
    "    \n",
    "    return descriptors"
   ]
  },
  {
   "cell_type": "code",
   "execution_count": 16,
   "metadata": {
    "colab": {},
    "colab_type": "code",
    "id": "ThFIFw8IukMY"
   },
   "outputs": [],
   "source": [
    "df_lipinski = lipinski(df.canonical_smiles)"
   ]
  },
  {
   "cell_type": "markdown",
   "metadata": {
    "colab_type": "text",
    "id": "gUMlPfFrxicj"
   },
   "source": [
    "### **Combine DataFrames**\n",
    "\n",
    "Let's take a look at the 2 DataFrames that will be combined."
   ]
  },
  {
   "cell_type": "code",
   "execution_count": 17,
   "metadata": {
    "colab": {
     "base_uri": "https://localhost:8080/",
     "height": 415
    },
    "colab_type": "code",
    "id": "DaezyM5vwp9n",
    "outputId": "fb750119-b086-4d9d-e9f7-190833e4dc74"
   },
   "outputs": [
    {
     "data": {
      "text/html": [
       "<div>\n",
       "<style scoped>\n",
       "    .dataframe tbody tr th:only-of-type {\n",
       "        vertical-align: middle;\n",
       "    }\n",
       "\n",
       "    .dataframe tbody tr th {\n",
       "        vertical-align: top;\n",
       "    }\n",
       "\n",
       "    .dataframe thead th {\n",
       "        text-align: right;\n",
       "    }\n",
       "</style>\n",
       "<table border=\"1\" class=\"dataframe\">\n",
       "  <thead>\n",
       "    <tr style=\"text-align: right;\">\n",
       "      <th></th>\n",
       "      <th>MW</th>\n",
       "      <th>LogP</th>\n",
       "      <th>NumHDonors</th>\n",
       "      <th>NumHAcceptors</th>\n",
       "    </tr>\n",
       "  </thead>\n",
       "  <tbody>\n",
       "    <tr>\n",
       "      <th>0</th>\n",
       "      <td>329.528</td>\n",
       "      <td>4.28820</td>\n",
       "      <td>2.0</td>\n",
       "      <td>2.0</td>\n",
       "    </tr>\n",
       "    <tr>\n",
       "      <th>1</th>\n",
       "      <td>315.501</td>\n",
       "      <td>3.89810</td>\n",
       "      <td>2.0</td>\n",
       "      <td>2.0</td>\n",
       "    </tr>\n",
       "    <tr>\n",
       "      <th>2</th>\n",
       "      <td>412.306</td>\n",
       "      <td>5.70542</td>\n",
       "      <td>0.0</td>\n",
       "      <td>3.0</td>\n",
       "    </tr>\n",
       "    <tr>\n",
       "      <th>3</th>\n",
       "      <td>319.383</td>\n",
       "      <td>4.63450</td>\n",
       "      <td>0.0</td>\n",
       "      <td>3.0</td>\n",
       "    </tr>\n",
       "    <tr>\n",
       "      <th>4</th>\n",
       "      <td>321.811</td>\n",
       "      <td>4.58780</td>\n",
       "      <td>0.0</td>\n",
       "      <td>3.0</td>\n",
       "    </tr>\n",
       "    <tr>\n",
       "      <th>...</th>\n",
       "      <td>...</td>\n",
       "      <td>...</td>\n",
       "      <td>...</td>\n",
       "      <td>...</td>\n",
       "    </tr>\n",
       "    <tr>\n",
       "      <th>2592</th>\n",
       "      <td>292.338</td>\n",
       "      <td>3.17100</td>\n",
       "      <td>0.0</td>\n",
       "      <td>4.0</td>\n",
       "    </tr>\n",
       "    <tr>\n",
       "      <th>2593</th>\n",
       "      <td>278.311</td>\n",
       "      <td>2.86800</td>\n",
       "      <td>1.0</td>\n",
       "      <td>4.0</td>\n",
       "    </tr>\n",
       "    <tr>\n",
       "      <th>2594</th>\n",
       "      <td>292.338</td>\n",
       "      <td>3.17100</td>\n",
       "      <td>0.0</td>\n",
       "      <td>4.0</td>\n",
       "    </tr>\n",
       "    <tr>\n",
       "      <th>2595</th>\n",
       "      <td>278.311</td>\n",
       "      <td>2.86800</td>\n",
       "      <td>1.0</td>\n",
       "      <td>4.0</td>\n",
       "    </tr>\n",
       "    <tr>\n",
       "      <th>2596</th>\n",
       "      <td>338.410</td>\n",
       "      <td>4.82940</td>\n",
       "      <td>0.0</td>\n",
       "      <td>3.0</td>\n",
       "    </tr>\n",
       "  </tbody>\n",
       "</table>\n",
       "<p>2597 rows × 4 columns</p>\n",
       "</div>"
      ],
      "text/plain": [
       "           MW     LogP  NumHDonors  NumHAcceptors\n",
       "0     329.528  4.28820         2.0            2.0\n",
       "1     315.501  3.89810         2.0            2.0\n",
       "2     412.306  5.70542         0.0            3.0\n",
       "3     319.383  4.63450         0.0            3.0\n",
       "4     321.811  4.58780         0.0            3.0\n",
       "...       ...      ...         ...            ...\n",
       "2592  292.338  3.17100         0.0            4.0\n",
       "2593  278.311  2.86800         1.0            4.0\n",
       "2594  292.338  3.17100         0.0            4.0\n",
       "2595  278.311  2.86800         1.0            4.0\n",
       "2596  338.410  4.82940         0.0            3.0\n",
       "\n",
       "[2597 rows x 4 columns]"
      ]
     },
     "execution_count": 17,
     "metadata": {},
     "output_type": "execute_result"
    }
   ],
   "source": [
    "df_lipinski"
   ]
  },
  {
   "cell_type": "code",
   "execution_count": 18,
   "metadata": {
    "colab": {
     "base_uri": "https://localhost:8080/",
     "height": 415
    },
    "colab_type": "code",
    "id": "9-ChzM8_wuq_",
    "outputId": "5f5be1ae-c757-44af-cace-5a4c083a81af"
   },
   "outputs": [
    {
     "data": {
      "text/html": [
       "<div>\n",
       "<style scoped>\n",
       "    .dataframe tbody tr th:only-of-type {\n",
       "        vertical-align: middle;\n",
       "    }\n",
       "\n",
       "    .dataframe tbody tr th {\n",
       "        vertical-align: top;\n",
       "    }\n",
       "\n",
       "    .dataframe thead th {\n",
       "        text-align: right;\n",
       "    }\n",
       "</style>\n",
       "<table border=\"1\" class=\"dataframe\">\n",
       "  <thead>\n",
       "    <tr style=\"text-align: right;\">\n",
       "      <th></th>\n",
       "      <th>molecule_chembl_id</th>\n",
       "      <th>canonical_smiles</th>\n",
       "      <th>standard_value</th>\n",
       "      <th>class</th>\n",
       "    </tr>\n",
       "  </thead>\n",
       "  <tbody>\n",
       "    <tr>\n",
       "      <th>0</th>\n",
       "      <td>CHEMBL341591</td>\n",
       "      <td>CC12CCC(O)CC1=CCC1C2CCC2(C)C(CC3CN3)CCC12</td>\n",
       "      <td>7100.0</td>\n",
       "      <td>intermediate</td>\n",
       "    </tr>\n",
       "    <tr>\n",
       "      <th>1</th>\n",
       "      <td>CHEMBL2111947</td>\n",
       "      <td>C[C@]12CC[C@H]3[C@@H](CC=C4C[C@@H](O)CC[C@@]43...</td>\n",
       "      <td>50000.0</td>\n",
       "      <td>inactive</td>\n",
       "    </tr>\n",
       "    <tr>\n",
       "      <th>2</th>\n",
       "      <td>CHEMBL431859</td>\n",
       "      <td>CCn1c(C(c2ccc(F)cc2)n2ccnc2)c(C)c2cc(Br)ccc21</td>\n",
       "      <td>238.0</td>\n",
       "      <td>active</td>\n",
       "    </tr>\n",
       "    <tr>\n",
       "      <th>3</th>\n",
       "      <td>CHEMBL113637</td>\n",
       "      <td>CCn1cc(C(c2ccc(F)cc2)n2ccnc2)c2ccccc21</td>\n",
       "      <td>57.0</td>\n",
       "      <td>active</td>\n",
       "    </tr>\n",
       "    <tr>\n",
       "      <th>4</th>\n",
       "      <td>CHEMBL112021</td>\n",
       "      <td>Clc1ccccc1Cn1cc(Cn2ccnc2)c2ccccc21</td>\n",
       "      <td>54.0</td>\n",
       "      <td>active</td>\n",
       "    </tr>\n",
       "    <tr>\n",
       "      <th>...</th>\n",
       "      <td>...</td>\n",
       "      <td>...</td>\n",
       "      <td>...</td>\n",
       "      <td>...</td>\n",
       "    </tr>\n",
       "    <tr>\n",
       "      <th>2592</th>\n",
       "      <td>CHEMBL5285636</td>\n",
       "      <td>COc1ccc(C(=O)c2cccc(Cn3ccnc3)c2)cc1</td>\n",
       "      <td>13.0</td>\n",
       "      <td>active</td>\n",
       "    </tr>\n",
       "    <tr>\n",
       "      <th>2593</th>\n",
       "      <td>CHEMBL5266533</td>\n",
       "      <td>O=C(c1ccc(O)cc1)c1cccc(Cn2ccnc2)c1</td>\n",
       "      <td>13.0</td>\n",
       "      <td>active</td>\n",
       "    </tr>\n",
       "    <tr>\n",
       "      <th>2594</th>\n",
       "      <td>CHEMBL5278229</td>\n",
       "      <td>COc1ccc(C(=O)c2ccc(Cn3ccnc3)cc2)cc1</td>\n",
       "      <td>237.8</td>\n",
       "      <td>active</td>\n",
       "    </tr>\n",
       "    <tr>\n",
       "      <th>2595</th>\n",
       "      <td>CHEMBL5275747</td>\n",
       "      <td>O=C(c1ccc(O)cc1)c1ccc(Cn2ccnc2)cc1</td>\n",
       "      <td>1100.0</td>\n",
       "      <td>intermediate</td>\n",
       "    </tr>\n",
       "    <tr>\n",
       "      <th>2596</th>\n",
       "      <td>CHEMBL5273068</td>\n",
       "      <td>O=C(c1ccc(Cn2ccnc2)cc1)c1ccc(-c2ccccc2)cc1</td>\n",
       "      <td>2531.0</td>\n",
       "      <td>intermediate</td>\n",
       "    </tr>\n",
       "  </tbody>\n",
       "</table>\n",
       "<p>2597 rows × 4 columns</p>\n",
       "</div>"
      ],
      "text/plain": [
       "     molecule_chembl_id                                   canonical_smiles  \\\n",
       "0          CHEMBL341591          CC12CCC(O)CC1=CCC1C2CCC2(C)C(CC3CN3)CCC12   \n",
       "1         CHEMBL2111947  C[C@]12CC[C@H]3[C@@H](CC=C4C[C@@H](O)CC[C@@]43...   \n",
       "2          CHEMBL431859      CCn1c(C(c2ccc(F)cc2)n2ccnc2)c(C)c2cc(Br)ccc21   \n",
       "3          CHEMBL113637             CCn1cc(C(c2ccc(F)cc2)n2ccnc2)c2ccccc21   \n",
       "4          CHEMBL112021                 Clc1ccccc1Cn1cc(Cn2ccnc2)c2ccccc21   \n",
       "...                 ...                                                ...   \n",
       "2592      CHEMBL5285636                COc1ccc(C(=O)c2cccc(Cn3ccnc3)c2)cc1   \n",
       "2593      CHEMBL5266533                 O=C(c1ccc(O)cc1)c1cccc(Cn2ccnc2)c1   \n",
       "2594      CHEMBL5278229                COc1ccc(C(=O)c2ccc(Cn3ccnc3)cc2)cc1   \n",
       "2595      CHEMBL5275747                 O=C(c1ccc(O)cc1)c1ccc(Cn2ccnc2)cc1   \n",
       "2596      CHEMBL5273068         O=C(c1ccc(Cn2ccnc2)cc1)c1ccc(-c2ccccc2)cc1   \n",
       "\n",
       "      standard_value         class  \n",
       "0             7100.0  intermediate  \n",
       "1            50000.0      inactive  \n",
       "2              238.0        active  \n",
       "3               57.0        active  \n",
       "4               54.0        active  \n",
       "...              ...           ...  \n",
       "2592            13.0        active  \n",
       "2593            13.0        active  \n",
       "2594           237.8        active  \n",
       "2595          1100.0  intermediate  \n",
       "2596          2531.0  intermediate  \n",
       "\n",
       "[2597 rows x 4 columns]"
      ]
     },
     "execution_count": 18,
     "metadata": {},
     "output_type": "execute_result"
    }
   ],
   "source": [
    "df"
   ]
  },
  {
   "cell_type": "markdown",
   "metadata": {
    "colab_type": "text",
    "id": "eET6iZ1Aw3oe"
   },
   "source": [
    "Now, let's combine the 2 DataFrame"
   ]
  },
  {
   "cell_type": "code",
   "execution_count": 19,
   "metadata": {
    "colab": {},
    "colab_type": "code",
    "id": "L9nUZC0Ww3gp"
   },
   "outputs": [],
   "source": [
    "df_combined = pd.concat([df,df_lipinski], axis=1)"
   ]
  },
  {
   "cell_type": "code",
   "execution_count": 20,
   "metadata": {
    "colab": {
     "base_uri": "https://localhost:8080/",
     "height": 487
    },
    "colab_type": "code",
    "id": "FRBfBP3QxFJp",
    "outputId": "18e69e90-6b93-4b8f-fc86-24924f6eb00c"
   },
   "outputs": [
    {
     "data": {
      "text/html": [
       "<div>\n",
       "<style scoped>\n",
       "    .dataframe tbody tr th:only-of-type {\n",
       "        vertical-align: middle;\n",
       "    }\n",
       "\n",
       "    .dataframe tbody tr th {\n",
       "        vertical-align: top;\n",
       "    }\n",
       "\n",
       "    .dataframe thead th {\n",
       "        text-align: right;\n",
       "    }\n",
       "</style>\n",
       "<table border=\"1\" class=\"dataframe\">\n",
       "  <thead>\n",
       "    <tr style=\"text-align: right;\">\n",
       "      <th></th>\n",
       "      <th>molecule_chembl_id</th>\n",
       "      <th>canonical_smiles</th>\n",
       "      <th>standard_value</th>\n",
       "      <th>class</th>\n",
       "      <th>MW</th>\n",
       "      <th>LogP</th>\n",
       "      <th>NumHDonors</th>\n",
       "      <th>NumHAcceptors</th>\n",
       "    </tr>\n",
       "  </thead>\n",
       "  <tbody>\n",
       "    <tr>\n",
       "      <th>0</th>\n",
       "      <td>CHEMBL341591</td>\n",
       "      <td>CC12CCC(O)CC1=CCC1C2CCC2(C)C(CC3CN3)CCC12</td>\n",
       "      <td>7100.0</td>\n",
       "      <td>intermediate</td>\n",
       "      <td>329.528</td>\n",
       "      <td>4.28820</td>\n",
       "      <td>2.0</td>\n",
       "      <td>2.0</td>\n",
       "    </tr>\n",
       "    <tr>\n",
       "      <th>1</th>\n",
       "      <td>CHEMBL2111947</td>\n",
       "      <td>C[C@]12CC[C@H]3[C@@H](CC=C4C[C@@H](O)CC[C@@]43...</td>\n",
       "      <td>50000.0</td>\n",
       "      <td>inactive</td>\n",
       "      <td>315.501</td>\n",
       "      <td>3.89810</td>\n",
       "      <td>2.0</td>\n",
       "      <td>2.0</td>\n",
       "    </tr>\n",
       "    <tr>\n",
       "      <th>2</th>\n",
       "      <td>CHEMBL431859</td>\n",
       "      <td>CCn1c(C(c2ccc(F)cc2)n2ccnc2)c(C)c2cc(Br)ccc21</td>\n",
       "      <td>238.0</td>\n",
       "      <td>active</td>\n",
       "      <td>412.306</td>\n",
       "      <td>5.70542</td>\n",
       "      <td>0.0</td>\n",
       "      <td>3.0</td>\n",
       "    </tr>\n",
       "    <tr>\n",
       "      <th>3</th>\n",
       "      <td>CHEMBL113637</td>\n",
       "      <td>CCn1cc(C(c2ccc(F)cc2)n2ccnc2)c2ccccc21</td>\n",
       "      <td>57.0</td>\n",
       "      <td>active</td>\n",
       "      <td>319.383</td>\n",
       "      <td>4.63450</td>\n",
       "      <td>0.0</td>\n",
       "      <td>3.0</td>\n",
       "    </tr>\n",
       "    <tr>\n",
       "      <th>4</th>\n",
       "      <td>CHEMBL112021</td>\n",
       "      <td>Clc1ccccc1Cn1cc(Cn2ccnc2)c2ccccc21</td>\n",
       "      <td>54.0</td>\n",
       "      <td>active</td>\n",
       "      <td>321.811</td>\n",
       "      <td>4.58780</td>\n",
       "      <td>0.0</td>\n",
       "      <td>3.0</td>\n",
       "    </tr>\n",
       "    <tr>\n",
       "      <th>...</th>\n",
       "      <td>...</td>\n",
       "      <td>...</td>\n",
       "      <td>...</td>\n",
       "      <td>...</td>\n",
       "      <td>...</td>\n",
       "      <td>...</td>\n",
       "      <td>...</td>\n",
       "      <td>...</td>\n",
       "    </tr>\n",
       "    <tr>\n",
       "      <th>2592</th>\n",
       "      <td>CHEMBL5285636</td>\n",
       "      <td>COc1ccc(C(=O)c2cccc(Cn3ccnc3)c2)cc1</td>\n",
       "      <td>13.0</td>\n",
       "      <td>active</td>\n",
       "      <td>292.338</td>\n",
       "      <td>3.17100</td>\n",
       "      <td>0.0</td>\n",
       "      <td>4.0</td>\n",
       "    </tr>\n",
       "    <tr>\n",
       "      <th>2593</th>\n",
       "      <td>CHEMBL5266533</td>\n",
       "      <td>O=C(c1ccc(O)cc1)c1cccc(Cn2ccnc2)c1</td>\n",
       "      <td>13.0</td>\n",
       "      <td>active</td>\n",
       "      <td>278.311</td>\n",
       "      <td>2.86800</td>\n",
       "      <td>1.0</td>\n",
       "      <td>4.0</td>\n",
       "    </tr>\n",
       "    <tr>\n",
       "      <th>2594</th>\n",
       "      <td>CHEMBL5278229</td>\n",
       "      <td>COc1ccc(C(=O)c2ccc(Cn3ccnc3)cc2)cc1</td>\n",
       "      <td>237.8</td>\n",
       "      <td>active</td>\n",
       "      <td>292.338</td>\n",
       "      <td>3.17100</td>\n",
       "      <td>0.0</td>\n",
       "      <td>4.0</td>\n",
       "    </tr>\n",
       "    <tr>\n",
       "      <th>2595</th>\n",
       "      <td>CHEMBL5275747</td>\n",
       "      <td>O=C(c1ccc(O)cc1)c1ccc(Cn2ccnc2)cc1</td>\n",
       "      <td>1100.0</td>\n",
       "      <td>intermediate</td>\n",
       "      <td>278.311</td>\n",
       "      <td>2.86800</td>\n",
       "      <td>1.0</td>\n",
       "      <td>4.0</td>\n",
       "    </tr>\n",
       "    <tr>\n",
       "      <th>2596</th>\n",
       "      <td>CHEMBL5273068</td>\n",
       "      <td>O=C(c1ccc(Cn2ccnc2)cc1)c1ccc(-c2ccccc2)cc1</td>\n",
       "      <td>2531.0</td>\n",
       "      <td>intermediate</td>\n",
       "      <td>338.410</td>\n",
       "      <td>4.82940</td>\n",
       "      <td>0.0</td>\n",
       "      <td>3.0</td>\n",
       "    </tr>\n",
       "  </tbody>\n",
       "</table>\n",
       "<p>2597 rows × 8 columns</p>\n",
       "</div>"
      ],
      "text/plain": [
       "     molecule_chembl_id                                   canonical_smiles  \\\n",
       "0          CHEMBL341591          CC12CCC(O)CC1=CCC1C2CCC2(C)C(CC3CN3)CCC12   \n",
       "1         CHEMBL2111947  C[C@]12CC[C@H]3[C@@H](CC=C4C[C@@H](O)CC[C@@]43...   \n",
       "2          CHEMBL431859      CCn1c(C(c2ccc(F)cc2)n2ccnc2)c(C)c2cc(Br)ccc21   \n",
       "3          CHEMBL113637             CCn1cc(C(c2ccc(F)cc2)n2ccnc2)c2ccccc21   \n",
       "4          CHEMBL112021                 Clc1ccccc1Cn1cc(Cn2ccnc2)c2ccccc21   \n",
       "...                 ...                                                ...   \n",
       "2592      CHEMBL5285636                COc1ccc(C(=O)c2cccc(Cn3ccnc3)c2)cc1   \n",
       "2593      CHEMBL5266533                 O=C(c1ccc(O)cc1)c1cccc(Cn2ccnc2)c1   \n",
       "2594      CHEMBL5278229                COc1ccc(C(=O)c2ccc(Cn3ccnc3)cc2)cc1   \n",
       "2595      CHEMBL5275747                 O=C(c1ccc(O)cc1)c1ccc(Cn2ccnc2)cc1   \n",
       "2596      CHEMBL5273068         O=C(c1ccc(Cn2ccnc2)cc1)c1ccc(-c2ccccc2)cc1   \n",
       "\n",
       "      standard_value         class       MW     LogP  NumHDonors  \\\n",
       "0             7100.0  intermediate  329.528  4.28820         2.0   \n",
       "1            50000.0      inactive  315.501  3.89810         2.0   \n",
       "2              238.0        active  412.306  5.70542         0.0   \n",
       "3               57.0        active  319.383  4.63450         0.0   \n",
       "4               54.0        active  321.811  4.58780         0.0   \n",
       "...              ...           ...      ...      ...         ...   \n",
       "2592            13.0        active  292.338  3.17100         0.0   \n",
       "2593            13.0        active  278.311  2.86800         1.0   \n",
       "2594           237.8        active  292.338  3.17100         0.0   \n",
       "2595          1100.0  intermediate  278.311  2.86800         1.0   \n",
       "2596          2531.0  intermediate  338.410  4.82940         0.0   \n",
       "\n",
       "      NumHAcceptors  \n",
       "0               2.0  \n",
       "1               2.0  \n",
       "2               3.0  \n",
       "3               3.0  \n",
       "4               3.0  \n",
       "...             ...  \n",
       "2592            4.0  \n",
       "2593            4.0  \n",
       "2594            4.0  \n",
       "2595            4.0  \n",
       "2596            3.0  \n",
       "\n",
       "[2597 rows x 8 columns]"
      ]
     },
     "execution_count": 20,
     "metadata": {},
     "output_type": "execute_result"
    }
   ],
   "source": [
    "df_combined"
   ]
  },
  {
   "cell_type": "markdown",
   "metadata": {},
   "source": [
    "Let's visualize the distribution of the actual IC50 Values"
   ]
  },
  {
   "cell_type": "code",
   "execution_count": 45,
   "metadata": {},
   "outputs": [
    {
     "data": {
      "image/png": "[encoded data removed]",
      "text/plain": [
       "<Figure size 1000x600 with 1 Axes>"
      ]
     },
     "metadata": {},
     "output_type": "display_data"
    }
   ],
   "source": [
    "import matplotlib.pyplot as plt\n",
    "plt.figure(figsize=(10, 6))\n",
    "plt.hist(df_combined['standard_value'], bins=50, color='skyblue', edgecolor='black')\n",
    "plt.title('Distribution of Standard Value')\n",
    "plt.xlabel('Standard Value')\n",
    "plt.ylabel('Frequency')\n",
    "plt.show()"
   ]
  },
  {
   "cell_type": "markdown",
   "metadata": {
    "colab_type": "text",
    "id": "e0MLOedB6j96"
   },
   "source": [
    "### **Convert IC50 to pIC50**\n",
    "To allow **IC50** data to be more uniformly distributed, we will convert **IC50** to the negative logarithmic scale which is essentially **-log10(IC50)**.\n",
    "\n",
    "This custom function pIC50() will accept a DataFrame as input and will:\n",
    "* Take the IC50 values from the ``standard_value`` column and converts it from nM to M by multiplying the value by 10$^{-9}$\n",
    "* Take the molar value and apply -log10\n",
    "* Delete the ``standard_value`` column and create a new ``pIC50`` column"
   ]
  },
  {
   "cell_type": "code",
   "execution_count": 50,
   "metadata": {
    "colab": {},
    "colab_type": "code",
    "id": "UXMuFQoQ4pZF"
   },
   "outputs": [],
   "source": [
    "# https://github.com/chaninlab/estrogen-receptor-alpha-qsar/blob/master/02_ER_alpha_RO5.ipynb\n",
    "\n",
    "import numpy as np\n",
    "\n",
    "def pIC50(input):\n",
    "    pIC50 = []\n",
    "\n",
    "    for i in input['standard_value_norm']:\n",
    "        molar = i*(10**-9) # Converts nM to M\n",
    "        pIC50.append(-np.log10(molar + 1e-10))\n",
    "\n",
    "    input['pIC50'] = pIC50\n",
    "    x = input.drop('standard_value_norm', axis=1)\n",
    "        \n",
    "    return x"
   ]
  },
  {
   "cell_type": "markdown",
   "metadata": {
    "colab_type": "text",
    "id": "WU5Fh1h2OaJJ"
   },
   "source": [
    "Point to note: Values greater than 100,000,000 will be fixed at 100,000,000 otherwise the negative logarithmic value will become negative."
   ]
  },
  {
   "cell_type": "code",
   "execution_count": 51,
   "metadata": {
    "colab": {
     "base_uri": "https://localhost:8080/",
     "height": 170
    },
    "colab_type": "code",
    "id": "QuUTFUpcR1wU",
    "outputId": "9d1db8ff-8de4-4dd6-8259-6a28617538eb"
   },
   "outputs": [
    {
     "data": {
      "text/plain": [
       "count    2.597000e+03\n",
       "mean     1.801579e+04\n",
       "std      8.002271e+04\n",
       "min      0.000000e+00\n",
       "25%      1.600000e+02\n",
       "50%      1.320000e+03\n",
       "75%      8.900000e+03\n",
       "max      2.398833e+06\n",
       "Name: standard_value, dtype: float64"
      ]
     },
     "execution_count": 51,
     "metadata": {},
     "output_type": "execute_result"
    }
   ],
   "source": [
    "df_combined.standard_value.describe()"
   ]
  },
  {
   "cell_type": "code",
   "execution_count": 52,
   "metadata": {
    "colab": {
     "base_uri": "https://localhost:8080/",
     "height": 34
    },
    "colab_type": "code",
    "id": "QyiJ0to5N6Z_",
    "outputId": "e10f18e8-1255-4636-bf2f-efbd3befde4f"
   },
   "outputs": [
    {
     "data": {
      "text/plain": [
       "1.0"
      ]
     },
     "execution_count": 52,
     "metadata": {},
     "output_type": "execute_result"
    }
   ],
   "source": [
    "-np.log10( (10**-9)* 100000000 )"
   ]
  },
  {
   "cell_type": "code",
   "execution_count": 53,
   "metadata": {
    "colab": {
     "base_uri": "https://localhost:8080/",
     "height": 34
    },
    "colab_type": "code",
    "id": "9S1aJkOYOP6K",
    "outputId": "85aa8a89-99f7-4d9e-dac5-3f599c2fb364"
   },
   "outputs": [
    {
     "data": {
      "text/plain": [
       "-1.0"
      ]
     },
     "execution_count": 53,
     "metadata": {},
     "output_type": "execute_result"
    }
   ],
   "source": [
    "-np.log10( (10**-9)* 10000000000 )"
   ]
  },
  {
   "cell_type": "code",
   "execution_count": 54,
   "metadata": {
    "colab": {},
    "colab_type": "code",
    "id": "iktHDDwtPDwl"
   },
   "outputs": [],
   "source": [
    "def norm_value(input):\n",
    "    norm = []\n",
    "\n",
    "    for i in input['standard_value']:\n",
    "        if i > 100000000:\n",
    "          i = 100000000\n",
    "        norm.append(i)\n",
    "\n",
    "    input['standard_value_norm'] = norm\n",
    "    x = input.drop('standard_value', axis=1)\n",
    "        \n",
    "    return x"
   ]
  },
  {
   "cell_type": "markdown",
   "metadata": {
    "colab_type": "text",
    "id": "EkrTs7RfPsrH"
   },
   "source": [
    "We will first apply the norm_value() function so that the values in the standard_value column is normalized."
   ]
  },
  {
   "cell_type": "code",
   "execution_count": 55,
   "metadata": {
    "colab": {
     "base_uri": "https://localhost:8080/",
     "height": 487
    },
    "colab_type": "code",
    "id": "EX2Mj2-ZP1Rj",
    "outputId": "7f0f6cb0-d251-4208-fbf8-19970978625e"
   },
   "outputs": [
    {
     "data": {
      "text/html": [
       "<div>\n",
       "<style scoped>\n",
       "    .dataframe tbody tr th:only-of-type {\n",
       "        vertical-align: middle;\n",
       "    }\n",
       "\n",
       "    .dataframe tbody tr th {\n",
       "        vertical-align: top;\n",
       "    }\n",
       "\n",
       "    .dataframe thead th {\n",
       "        text-align: right;\n",
       "    }\n",
       "</style>\n",
       "<table border=\"1\" class=\"dataframe\">\n",
       "  <thead>\n",
       "    <tr style=\"text-align: right;\">\n",
       "      <th></th>\n",
       "      <th>molecule_chembl_id</th>\n",
       "      <th>canonical_smiles</th>\n",
       "      <th>class</th>\n",
       "      <th>MW</th>\n",
       "      <th>LogP</th>\n",
       "      <th>NumHDonors</th>\n",
       "      <th>NumHAcceptors</th>\n",
       "      <th>standard_value_norm</th>\n",
       "    </tr>\n",
       "  </thead>\n",
       "  <tbody>\n",
       "    <tr>\n",
       "      <th>0</th>\n",
       "      <td>CHEMBL341591</td>\n",
       "      <td>CC12CCC(O)CC1=CCC1C2CCC2(C)C(CC3CN3)CCC12</td>\n",
       "      <td>intermediate</td>\n",
       "      <td>329.528</td>\n",
       "      <td>4.28820</td>\n",
       "      <td>2.0</td>\n",
       "      <td>2.0</td>\n",
       "      <td>7100.0</td>\n",
       "    </tr>\n",
       "    <tr>\n",
       "      <th>1</th>\n",
       "      <td>CHEMBL2111947</td>\n",
       "      <td>C[C@]12CC[C@H]3[C@@H](CC=C4C[C@@H](O)CC[C@@]43...</td>\n",
       "      <td>inactive</td>\n",
       "      <td>315.501</td>\n",
       "      <td>3.89810</td>\n",
       "      <td>2.0</td>\n",
       "      <td>2.0</td>\n",
       "      <td>50000.0</td>\n",
       "    </tr>\n",
       "    <tr>\n",
       "      <th>2</th>\n",
       "      <td>CHEMBL431859</td>\n",
       "      <td>CCn1c(C(c2ccc(F)cc2)n2ccnc2)c(C)c2cc(Br)ccc21</td>\n",
       "      <td>active</td>\n",
       "      <td>412.306</td>\n",
       "      <td>5.70542</td>\n",
       "      <td>0.0</td>\n",
       "      <td>3.0</td>\n",
       "      <td>238.0</td>\n",
       "    </tr>\n",
       "    <tr>\n",
       "      <th>3</th>\n",
       "      <td>CHEMBL113637</td>\n",
       "      <td>CCn1cc(C(c2ccc(F)cc2)n2ccnc2)c2ccccc21</td>\n",
       "      <td>active</td>\n",
       "      <td>319.383</td>\n",
       "      <td>4.63450</td>\n",
       "      <td>0.0</td>\n",
       "      <td>3.0</td>\n",
       "      <td>57.0</td>\n",
       "    </tr>\n",
       "    <tr>\n",
       "      <th>4</th>\n",
       "      <td>CHEMBL112021</td>\n",
       "      <td>Clc1ccccc1Cn1cc(Cn2ccnc2)c2ccccc21</td>\n",
       "      <td>active</td>\n",
       "      <td>321.811</td>\n",
       "      <td>4.58780</td>\n",
       "      <td>0.0</td>\n",
       "      <td>3.0</td>\n",
       "      <td>54.0</td>\n",
       "    </tr>\n",
       "    <tr>\n",
       "      <th>...</th>\n",
       "      <td>...</td>\n",
       "      <td>...</td>\n",
       "      <td>...</td>\n",
       "      <td>...</td>\n",
       "      <td>...</td>\n",
       "      <td>...</td>\n",
       "      <td>...</td>\n",
       "      <td>...</td>\n",
       "    </tr>\n",
       "    <tr>\n",
       "      <th>2592</th>\n",
       "      <td>CHEMBL5285636</td>\n",
       "      <td>COc1ccc(C(=O)c2cccc(Cn3ccnc3)c2)cc1</td>\n",
       "      <td>active</td>\n",
       "      <td>292.338</td>\n",
       "      <td>3.17100</td>\n",
       "      <td>0.0</td>\n",
       "      <td>4.0</td>\n",
       "      <td>13.0</td>\n",
       "    </tr>\n",
       "    <tr>\n",
       "      <th>2593</th>\n",
       "      <td>CHEMBL5266533</td>\n",
       "      <td>O=C(c1ccc(O)cc1)c1cccc(Cn2ccnc2)c1</td>\n",
       "      <td>active</td>\n",
       "      <td>278.311</td>\n",
       "      <td>2.86800</td>\n",
       "      <td>1.0</td>\n",
       "      <td>4.0</td>\n",
       "      <td>13.0</td>\n",
       "    </tr>\n",
       "    <tr>\n",
       "      <th>2594</th>\n",
       "      <td>CHEMBL5278229</td>\n",
       "      <td>COc1ccc(C(=O)c2ccc(Cn3ccnc3)cc2)cc1</td>\n",
       "      <td>active</td>\n",
       "      <td>292.338</td>\n",
       "      <td>3.17100</td>\n",
       "      <td>0.0</td>\n",
       "      <td>4.0</td>\n",
       "      <td>237.8</td>\n",
       "    </tr>\n",
       "    <tr>\n",
       "      <th>2595</th>\n",
       "      <td>CHEMBL5275747</td>\n",
       "      <td>O=C(c1ccc(O)cc1)c1ccc(Cn2ccnc2)cc1</td>\n",
       "      <td>intermediate</td>\n",
       "      <td>278.311</td>\n",
       "      <td>2.86800</td>\n",
       "      <td>1.0</td>\n",
       "      <td>4.0</td>\n",
       "      <td>1100.0</td>\n",
       "    </tr>\n",
       "    <tr>\n",
       "      <th>2596</th>\n",
       "      <td>CHEMBL5273068</td>\n",
       "      <td>O=C(c1ccc(Cn2ccnc2)cc1)c1ccc(-c2ccccc2)cc1</td>\n",
       "      <td>intermediate</td>\n",
       "      <td>338.410</td>\n",
       "      <td>4.82940</td>\n",
       "      <td>0.0</td>\n",
       "      <td>3.0</td>\n",
       "      <td>2531.0</td>\n",
       "    </tr>\n",
       "  </tbody>\n",
       "</table>\n",
       "<p>2597 rows × 8 columns</p>\n",
       "</div>"
      ],
      "text/plain": [
       "     molecule_chembl_id                                   canonical_smiles  \\\n",
       "0          CHEMBL341591          CC12CCC(O)CC1=CCC1C2CCC2(C)C(CC3CN3)CCC12   \n",
       "1         CHEMBL2111947  C[C@]12CC[C@H]3[C@@H](CC=C4C[C@@H](O)CC[C@@]43...   \n",
       "2          CHEMBL431859      CCn1c(C(c2ccc(F)cc2)n2ccnc2)c(C)c2cc(Br)ccc21   \n",
       "3          CHEMBL113637             CCn1cc(C(c2ccc(F)cc2)n2ccnc2)c2ccccc21   \n",
       "4          CHEMBL112021                 Clc1ccccc1Cn1cc(Cn2ccnc2)c2ccccc21   \n",
       "...                 ...                                                ...   \n",
       "2592      CHEMBL5285636                COc1ccc(C(=O)c2cccc(Cn3ccnc3)c2)cc1   \n",
       "2593      CHEMBL5266533                 O=C(c1ccc(O)cc1)c1cccc(Cn2ccnc2)c1   \n",
       "2594      CHEMBL5278229                COc1ccc(C(=O)c2ccc(Cn3ccnc3)cc2)cc1   \n",
       "2595      CHEMBL5275747                 O=C(c1ccc(O)cc1)c1ccc(Cn2ccnc2)cc1   \n",
       "2596      CHEMBL5273068         O=C(c1ccc(Cn2ccnc2)cc1)c1ccc(-c2ccccc2)cc1   \n",
       "\n",
       "             class       MW     LogP  NumHDonors  NumHAcceptors  \\\n",
       "0     intermediate  329.528  4.28820         2.0            2.0   \n",
       "1         inactive  315.501  3.89810         2.0            2.0   \n",
       "2           active  412.306  5.70542         0.0            3.0   \n",
       "3           active  319.383  4.63450         0.0            3.0   \n",
       "4           active  321.811  4.58780         0.0            3.0   \n",
       "...            ...      ...      ...         ...            ...   \n",
       "2592        active  292.338  3.17100         0.0            4.0   \n",
       "2593        active  278.311  2.86800         1.0            4.0   \n",
       "2594        active  292.338  3.17100         0.0            4.0   \n",
       "2595  intermediate  278.311  2.86800         1.0            4.0   \n",
       "2596  intermediate  338.410  4.82940         0.0            3.0   \n",
       "\n",
       "      standard_value_norm  \n",
       "0                  7100.0  \n",
       "1                 50000.0  \n",
       "2                   238.0  \n",
       "3                    57.0  \n",
       "4                    54.0  \n",
       "...                   ...  \n",
       "2592                 13.0  \n",
       "2593                 13.0  \n",
       "2594                237.8  \n",
       "2595               1100.0  \n",
       "2596               2531.0  \n",
       "\n",
       "[2597 rows x 8 columns]"
      ]
     },
     "execution_count": 55,
     "metadata": {},
     "output_type": "execute_result"
    }
   ],
   "source": [
    "df_norm = norm_value(df_combined)\n",
    "df_norm"
   ]
  },
  {
   "cell_type": "code",
   "execution_count": 56,
   "metadata": {
    "colab": {
     "base_uri": "https://localhost:8080/",
     "height": 173
    },
    "colab_type": "code",
    "id": "hb1eKrIjRiH9",
    "outputId": "12b12341-df33-4446-e3cc-2a30ee1fe1f8"
   },
   "outputs": [
    {
     "data": {
      "text/plain": [
       "count    2.597000e+03\n",
       "mean     1.801579e+04\n",
       "std      8.002271e+04\n",
       "min      0.000000e+00\n",
       "25%      1.600000e+02\n",
       "50%      1.320000e+03\n",
       "75%      8.900000e+03\n",
       "max      2.398833e+06\n",
       "Name: standard_value_norm, dtype: float64"
      ]
     },
     "execution_count": 56,
     "metadata": {},
     "output_type": "execute_result"
    }
   ],
   "source": [
    "df_norm.standard_value_norm.describe()"
   ]
  },
  {
   "cell_type": "code",
   "execution_count": 57,
   "metadata": {
    "colab": {
     "base_uri": "https://localhost:8080/",
     "height": 487
    },
    "colab_type": "code",
    "id": "UDKZzmK57YnS",
    "outputId": "9dde74a3-1198-4c52-a913-c0bd57fbbb4e"
   },
   "outputs": [
    {
     "data": {
      "text/html": [
       "<div>\n",
       "<style scoped>\n",
       "    .dataframe tbody tr th:only-of-type {\n",
       "        vertical-align: middle;\n",
       "    }\n",
       "\n",
       "    .dataframe tbody tr th {\n",
       "        vertical-align: top;\n",
       "    }\n",
       "\n",
       "    .dataframe thead th {\n",
       "        text-align: right;\n",
       "    }\n",
       "</style>\n",
       "<table border=\"1\" class=\"dataframe\">\n",
       "  <thead>\n",
       "    <tr style=\"text-align: right;\">\n",
       "      <th></th>\n",
       "      <th>molecule_chembl_id</th>\n",
       "      <th>canonical_smiles</th>\n",
       "      <th>class</th>\n",
       "      <th>MW</th>\n",
       "      <th>LogP</th>\n",
       "      <th>NumHDonors</th>\n",
       "      <th>NumHAcceptors</th>\n",
       "      <th>pIC50</th>\n",
       "    </tr>\n",
       "  </thead>\n",
       "  <tbody>\n",
       "    <tr>\n",
       "      <th>0</th>\n",
       "      <td>CHEMBL341591</td>\n",
       "      <td>CC12CCC(O)CC1=CCC1C2CCC2(C)C(CC3CN3)CCC12</td>\n",
       "      <td>intermediate</td>\n",
       "      <td>329.528</td>\n",
       "      <td>4.28820</td>\n",
       "      <td>2.0</td>\n",
       "      <td>2.0</td>\n",
       "      <td>5.148736</td>\n",
       "    </tr>\n",
       "    <tr>\n",
       "      <th>1</th>\n",
       "      <td>CHEMBL2111947</td>\n",
       "      <td>C[C@]12CC[C@H]3[C@@H](CC=C4C[C@@H](O)CC[C@@]43...</td>\n",
       "      <td>inactive</td>\n",
       "      <td>315.501</td>\n",
       "      <td>3.89810</td>\n",
       "      <td>2.0</td>\n",
       "      <td>2.0</td>\n",
       "      <td>4.301029</td>\n",
       "    </tr>\n",
       "    <tr>\n",
       "      <th>2</th>\n",
       "      <td>CHEMBL431859</td>\n",
       "      <td>CCn1c(C(c2ccc(F)cc2)n2ccnc2)c(C)c2cc(Br)ccc21</td>\n",
       "      <td>active</td>\n",
       "      <td>412.306</td>\n",
       "      <td>5.70542</td>\n",
       "      <td>0.0</td>\n",
       "      <td>3.0</td>\n",
       "      <td>6.623241</td>\n",
       "    </tr>\n",
       "    <tr>\n",
       "      <th>3</th>\n",
       "      <td>CHEMBL113637</td>\n",
       "      <td>CCn1cc(C(c2ccc(F)cc2)n2ccnc2)c2ccccc21</td>\n",
       "      <td>active</td>\n",
       "      <td>319.383</td>\n",
       "      <td>4.63450</td>\n",
       "      <td>0.0</td>\n",
       "      <td>3.0</td>\n",
       "      <td>7.243364</td>\n",
       "    </tr>\n",
       "    <tr>\n",
       "      <th>4</th>\n",
       "      <td>CHEMBL112021</td>\n",
       "      <td>Clc1ccccc1Cn1cc(Cn2ccnc2)c2ccccc21</td>\n",
       "      <td>active</td>\n",
       "      <td>321.811</td>\n",
       "      <td>4.58780</td>\n",
       "      <td>0.0</td>\n",
       "      <td>3.0</td>\n",
       "      <td>7.266803</td>\n",
       "    </tr>\n",
       "    <tr>\n",
       "      <th>...</th>\n",
       "      <td>...</td>\n",
       "      <td>...</td>\n",
       "      <td>...</td>\n",
       "      <td>...</td>\n",
       "      <td>...</td>\n",
       "      <td>...</td>\n",
       "      <td>...</td>\n",
       "      <td>...</td>\n",
       "    </tr>\n",
       "    <tr>\n",
       "      <th>2592</th>\n",
       "      <td>CHEMBL5285636</td>\n",
       "      <td>COc1ccc(C(=O)c2cccc(Cn3ccnc3)c2)cc1</td>\n",
       "      <td>active</td>\n",
       "      <td>292.338</td>\n",
       "      <td>3.17100</td>\n",
       "      <td>0.0</td>\n",
       "      <td>4.0</td>\n",
       "      <td>7.882729</td>\n",
       "    </tr>\n",
       "    <tr>\n",
       "      <th>2593</th>\n",
       "      <td>CHEMBL5266533</td>\n",
       "      <td>O=C(c1ccc(O)cc1)c1cccc(Cn2ccnc2)c1</td>\n",
       "      <td>active</td>\n",
       "      <td>278.311</td>\n",
       "      <td>2.86800</td>\n",
       "      <td>1.0</td>\n",
       "      <td>4.0</td>\n",
       "      <td>7.882729</td>\n",
       "    </tr>\n",
       "    <tr>\n",
       "      <th>2594</th>\n",
       "      <td>CHEMBL5278229</td>\n",
       "      <td>COc1ccc(C(=O)c2ccc(Cn3ccnc3)cc2)cc1</td>\n",
       "      <td>active</td>\n",
       "      <td>292.338</td>\n",
       "      <td>3.17100</td>\n",
       "      <td>0.0</td>\n",
       "      <td>4.0</td>\n",
       "      <td>6.623606</td>\n",
       "    </tr>\n",
       "    <tr>\n",
       "      <th>2595</th>\n",
       "      <td>CHEMBL5275747</td>\n",
       "      <td>O=C(c1ccc(O)cc1)c1ccc(Cn2ccnc2)cc1</td>\n",
       "      <td>intermediate</td>\n",
       "      <td>278.311</td>\n",
       "      <td>2.86800</td>\n",
       "      <td>1.0</td>\n",
       "      <td>4.0</td>\n",
       "      <td>5.958568</td>\n",
       "    </tr>\n",
       "    <tr>\n",
       "      <th>2596</th>\n",
       "      <td>CHEMBL5273068</td>\n",
       "      <td>O=C(c1ccc(Cn2ccnc2)cc1)c1ccc(-c2ccccc2)cc1</td>\n",
       "      <td>intermediate</td>\n",
       "      <td>338.410</td>\n",
       "      <td>4.82940</td>\n",
       "      <td>0.0</td>\n",
       "      <td>3.0</td>\n",
       "      <td>5.596691</td>\n",
       "    </tr>\n",
       "  </tbody>\n",
       "</table>\n",
       "<p>2597 rows × 8 columns</p>\n",
       "</div>"
      ],
      "text/plain": [
       "     molecule_chembl_id                                   canonical_smiles  \\\n",
       "0          CHEMBL341591          CC12CCC(O)CC1=CCC1C2CCC2(C)C(CC3CN3)CCC12   \n",
       "1         CHEMBL2111947  C[C@]12CC[C@H]3[C@@H](CC=C4C[C@@H](O)CC[C@@]43...   \n",
       "2          CHEMBL431859      CCn1c(C(c2ccc(F)cc2)n2ccnc2)c(C)c2cc(Br)ccc21   \n",
       "3          CHEMBL113637             CCn1cc(C(c2ccc(F)cc2)n2ccnc2)c2ccccc21   \n",
       "4          CHEMBL112021                 Clc1ccccc1Cn1cc(Cn2ccnc2)c2ccccc21   \n",
       "...                 ...                                                ...   \n",
       "2592      CHEMBL5285636                COc1ccc(C(=O)c2cccc(Cn3ccnc3)c2)cc1   \n",
       "2593      CHEMBL5266533                 O=C(c1ccc(O)cc1)c1cccc(Cn2ccnc2)c1   \n",
       "2594      CHEMBL5278229                COc1ccc(C(=O)c2ccc(Cn3ccnc3)cc2)cc1   \n",
       "2595      CHEMBL5275747                 O=C(c1ccc(O)cc1)c1ccc(Cn2ccnc2)cc1   \n",
       "2596      CHEMBL5273068         O=C(c1ccc(Cn2ccnc2)cc1)c1ccc(-c2ccccc2)cc1   \n",
       "\n",
       "             class       MW     LogP  NumHDonors  NumHAcceptors     pIC50  \n",
       "0     intermediate  329.528  4.28820         2.0            2.0  5.148736  \n",
       "1         inactive  315.501  3.89810         2.0            2.0  4.301029  \n",
       "2           active  412.306  5.70542         0.0            3.0  6.623241  \n",
       "3           active  319.383  4.63450         0.0            3.0  7.243364  \n",
       "4           active  321.811  4.58780         0.0            3.0  7.266803  \n",
       "...            ...      ...      ...         ...            ...       ...  \n",
       "2592        active  292.338  3.17100         0.0            4.0  7.882729  \n",
       "2593        active  278.311  2.86800         1.0            4.0  7.882729  \n",
       "2594        active  292.338  3.17100         0.0            4.0  6.623606  \n",
       "2595  intermediate  278.311  2.86800         1.0            4.0  5.958568  \n",
       "2596  intermediate  338.410  4.82940         0.0            3.0  5.596691  \n",
       "\n",
       "[2597 rows x 8 columns]"
      ]
     },
     "execution_count": 57,
     "metadata": {},
     "output_type": "execute_result"
    }
   ],
   "source": [
    "df_final = pIC50(df_norm)\n",
    "df_final"
   ]
  },
  {
   "cell_type": "code",
   "execution_count": 58,
   "metadata": {
    "colab": {
     "base_uri": "https://localhost:8080/",
     "height": 173
    },
    "colab_type": "code",
    "id": "BoqY53udSTYC",
    "outputId": "65595f1e-9547-4934-e958-b04825cf2316"
   },
   "outputs": [
    {
     "data": {
      "text/plain": [
       "count    2597.000000\n",
       "mean        6.001098\n",
       "std         1.269688\n",
       "min         2.620000\n",
       "25%         5.050605\n",
       "50%         5.879393\n",
       "75%         6.795609\n",
       "max        10.000000\n",
       "Name: pIC50, dtype: float64"
      ]
     },
     "execution_count": 58,
     "metadata": {},
     "output_type": "execute_result"
    }
   ],
   "source": [
    "df_final.pIC50.describe()"
   ]
  },
  {
   "cell_type": "code",
   "execution_count": 60,
   "metadata": {},
   "outputs": [
    {
     "data": {
      "image/png": "[encoded data removed]",
      "text/plain": [
       "<Figure size 1000x600 with 1 Axes>"
      ]
     },
     "metadata": {},
     "output_type": "display_data"
    }
   ],
   "source": [
    "import matplotlib.pyplot as plt\n",
    "plt.figure(figsize=(10, 6))\n",
    "plt.hist(df_final['pIC50'], bins=50, color='skyblue', edgecolor='black')\n",
    "plt.title('Distribution of Standard Value')\n",
    "plt.xlabel('Standard Value')\n",
    "plt.ylabel('Frequency')\n",
    "plt.show()"
   ]
  },
  {
   "cell_type": "markdown",
   "metadata": {
    "colab_type": "text",
    "id": "05vHBWvqaQtb"
   },
   "source": [
    "### **Removing the 'intermediate' bioactivity class**\n",
    "Here, we will be removing the ``intermediate`` class from our data set."
   ]
  },
  {
   "cell_type": "code",
   "execution_count": 70,
   "metadata": {},
   "outputs": [],
   "source": [
    "df_final.rename(columns={'class': 'bioactivity_class'}, inplace=True)"
   ]
  },
  {
   "cell_type": "code",
   "execution_count": 71,
   "metadata": {
    "colab": {
     "base_uri": "https://localhost:8080/",
     "height": 470
    },
    "colab_type": "code",
    "id": "HmrndhDW3c7Z",
    "outputId": "e3216e27-a94a-4848-8f18-c1c2533ad00f"
   },
   "outputs": [
    {
     "data": {
      "text/html": [
       "<div>\n",
       "<style scoped>\n",
       "    .dataframe tbody tr th:only-of-type {\n",
       "        vertical-align: middle;\n",
       "    }\n",
       "\n",
       "    .dataframe tbody tr th {\n",
       "        vertical-align: top;\n",
       "    }\n",
       "\n",
       "    .dataframe thead th {\n",
       "        text-align: right;\n",
       "    }\n",
       "</style>\n",
       "<table border=\"1\" class=\"dataframe\">\n",
       "  <thead>\n",
       "    <tr style=\"text-align: right;\">\n",
       "      <th></th>\n",
       "      <th>molecule_chembl_id</th>\n",
       "      <th>canonical_smiles</th>\n",
       "      <th>bioactivity_class</th>\n",
       "      <th>MW</th>\n",
       "      <th>LogP</th>\n",
       "      <th>NumHDonors</th>\n",
       "      <th>NumHAcceptors</th>\n",
       "      <th>pIC50</th>\n",
       "    </tr>\n",
       "  </thead>\n",
       "  <tbody>\n",
       "    <tr>\n",
       "      <th>1</th>\n",
       "      <td>CHEMBL2111947</td>\n",
       "      <td>C[C@]12CC[C@H]3[C@@H](CC=C4C[C@@H](O)CC[C@@]43...</td>\n",
       "      <td>inactive</td>\n",
       "      <td>315.501</td>\n",
       "      <td>3.89810</td>\n",
       "      <td>2.0</td>\n",
       "      <td>2.0</td>\n",
       "      <td>4.301029</td>\n",
       "    </tr>\n",
       "    <tr>\n",
       "      <th>2</th>\n",
       "      <td>CHEMBL431859</td>\n",
       "      <td>CCn1c(C(c2ccc(F)cc2)n2ccnc2)c(C)c2cc(Br)ccc21</td>\n",
       "      <td>active</td>\n",
       "      <td>412.306</td>\n",
       "      <td>5.70542</td>\n",
       "      <td>0.0</td>\n",
       "      <td>3.0</td>\n",
       "      <td>6.623241</td>\n",
       "    </tr>\n",
       "    <tr>\n",
       "      <th>3</th>\n",
       "      <td>CHEMBL113637</td>\n",
       "      <td>CCn1cc(C(c2ccc(F)cc2)n2ccnc2)c2ccccc21</td>\n",
       "      <td>active</td>\n",
       "      <td>319.383</td>\n",
       "      <td>4.63450</td>\n",
       "      <td>0.0</td>\n",
       "      <td>3.0</td>\n",
       "      <td>7.243364</td>\n",
       "    </tr>\n",
       "    <tr>\n",
       "      <th>4</th>\n",
       "      <td>CHEMBL112021</td>\n",
       "      <td>Clc1ccccc1Cn1cc(Cn2ccnc2)c2ccccc21</td>\n",
       "      <td>active</td>\n",
       "      <td>321.811</td>\n",
       "      <td>4.58780</td>\n",
       "      <td>0.0</td>\n",
       "      <td>3.0</td>\n",
       "      <td>7.266803</td>\n",
       "    </tr>\n",
       "    <tr>\n",
       "      <th>6</th>\n",
       "      <td>CHEMBL41761</td>\n",
       "      <td>CCn1ccc2cc(C(c3ccc(F)cc3)n3ccnc3)ccc21</td>\n",
       "      <td>active</td>\n",
       "      <td>319.383</td>\n",
       "      <td>4.63450</td>\n",
       "      <td>0.0</td>\n",
       "      <td>3.0</td>\n",
       "      <td>7.386158</td>\n",
       "    </tr>\n",
       "    <tr>\n",
       "      <th>...</th>\n",
       "      <td>...</td>\n",
       "      <td>...</td>\n",
       "      <td>...</td>\n",
       "      <td>...</td>\n",
       "      <td>...</td>\n",
       "      <td>...</td>\n",
       "      <td>...</td>\n",
       "      <td>...</td>\n",
       "    </tr>\n",
       "    <tr>\n",
       "      <th>2590</th>\n",
       "      <td>CHEMBL5274084</td>\n",
       "      <td>CCCCCOc1ccc(C(=O)c2cccc(Cn3ccnc3)c2)cc1</td>\n",
       "      <td>active</td>\n",
       "      <td>348.446</td>\n",
       "      <td>4.73140</td>\n",
       "      <td>0.0</td>\n",
       "      <td>4.0</td>\n",
       "      <td>7.375718</td>\n",
       "    </tr>\n",
       "    <tr>\n",
       "      <th>2591</th>\n",
       "      <td>CHEMBL5284760</td>\n",
       "      <td>CCCOc1ccc(C(=O)c2cccc(Cn3ccnc3)c2)cc1</td>\n",
       "      <td>active</td>\n",
       "      <td>320.392</td>\n",
       "      <td>3.95120</td>\n",
       "      <td>0.0</td>\n",
       "      <td>4.0</td>\n",
       "      <td>8.677781</td>\n",
       "    </tr>\n",
       "    <tr>\n",
       "      <th>2592</th>\n",
       "      <td>CHEMBL5285636</td>\n",
       "      <td>COc1ccc(C(=O)c2cccc(Cn3ccnc3)c2)cc1</td>\n",
       "      <td>active</td>\n",
       "      <td>292.338</td>\n",
       "      <td>3.17100</td>\n",
       "      <td>0.0</td>\n",
       "      <td>4.0</td>\n",
       "      <td>7.882729</td>\n",
       "    </tr>\n",
       "    <tr>\n",
       "      <th>2593</th>\n",
       "      <td>CHEMBL5266533</td>\n",
       "      <td>O=C(c1ccc(O)cc1)c1cccc(Cn2ccnc2)c1</td>\n",
       "      <td>active</td>\n",
       "      <td>278.311</td>\n",
       "      <td>2.86800</td>\n",
       "      <td>1.0</td>\n",
       "      <td>4.0</td>\n",
       "      <td>7.882729</td>\n",
       "    </tr>\n",
       "    <tr>\n",
       "      <th>2594</th>\n",
       "      <td>CHEMBL5278229</td>\n",
       "      <td>COc1ccc(C(=O)c2ccc(Cn3ccnc3)cc2)cc1</td>\n",
       "      <td>active</td>\n",
       "      <td>292.338</td>\n",
       "      <td>3.17100</td>\n",
       "      <td>0.0</td>\n",
       "      <td>4.0</td>\n",
       "      <td>6.623606</td>\n",
       "    </tr>\n",
       "  </tbody>\n",
       "</table>\n",
       "<p>1840 rows × 8 columns</p>\n",
       "</div>"
      ],
      "text/plain": [
       "     molecule_chembl_id                                   canonical_smiles  \\\n",
       "1         CHEMBL2111947  C[C@]12CC[C@H]3[C@@H](CC=C4C[C@@H](O)CC[C@@]43...   \n",
       "2          CHEMBL431859      CCn1c(C(c2ccc(F)cc2)n2ccnc2)c(C)c2cc(Br)ccc21   \n",
       "3          CHEMBL113637             CCn1cc(C(c2ccc(F)cc2)n2ccnc2)c2ccccc21   \n",
       "4          CHEMBL112021                 Clc1ccccc1Cn1cc(Cn2ccnc2)c2ccccc21   \n",
       "6           CHEMBL41761             CCn1ccc2cc(C(c3ccc(F)cc3)n3ccnc3)ccc21   \n",
       "...                 ...                                                ...   \n",
       "2590      CHEMBL5274084            CCCCCOc1ccc(C(=O)c2cccc(Cn3ccnc3)c2)cc1   \n",
       "2591      CHEMBL5284760              CCCOc1ccc(C(=O)c2cccc(Cn3ccnc3)c2)cc1   \n",
       "2592      CHEMBL5285636                COc1ccc(C(=O)c2cccc(Cn3ccnc3)c2)cc1   \n",
       "2593      CHEMBL5266533                 O=C(c1ccc(O)cc1)c1cccc(Cn2ccnc2)c1   \n",
       "2594      CHEMBL5278229                COc1ccc(C(=O)c2ccc(Cn3ccnc3)cc2)cc1   \n",
       "\n",
       "     bioactivity_class       MW     LogP  NumHDonors  NumHAcceptors     pIC50  \n",
       "1             inactive  315.501  3.89810         2.0            2.0  4.301029  \n",
       "2               active  412.306  5.70542         0.0            3.0  6.623241  \n",
       "3               active  319.383  4.63450         0.0            3.0  7.243364  \n",
       "4               active  321.811  4.58780         0.0            3.0  7.266803  \n",
       "6               active  319.383  4.63450         0.0            3.0  7.386158  \n",
       "...                ...      ...      ...         ...            ...       ...  \n",
       "2590            active  348.446  4.73140         0.0            4.0  7.375718  \n",
       "2591            active  320.392  3.95120         0.0            4.0  8.677781  \n",
       "2592            active  292.338  3.17100         0.0            4.0  7.882729  \n",
       "2593            active  278.311  2.86800         1.0            4.0  7.882729  \n",
       "2594            active  292.338  3.17100         0.0            4.0  6.623606  \n",
       "\n",
       "[1840 rows x 8 columns]"
      ]
     },
     "execution_count": 71,
     "metadata": {},
     "output_type": "execute_result"
    }
   ],
   "source": [
    "df_2class = df_final[df_final.bioactivity_class != 'intermediate']\n",
    "df_2class"
   ]
  },
  {
   "cell_type": "code",
   "execution_count": 107,
   "metadata": {},
   "outputs": [],
   "source": [
    "df_2class.to_csv(\"data/04-bioactivity-2class-data.csv\")\n",
    "df_final.to_csv(\"data/04-bioactivity-3class-data.csv\")"
   ]
  },
  {
   "cell_type": "markdown",
   "metadata": {
    "colab_type": "text",
    "id": "p9vA4-hQQ8sA"
   },
   "source": [
    "---"
   ]
  },
  {
   "cell_type": "markdown",
   "metadata": {
    "colab_type": "text",
    "id": "x0vqbQWfxsZu"
   },
   "source": [
    "## **Exploratory Data Analysis (Chemical Space Analysis) via Lipinski descriptors**"
   ]
  },
  {
   "cell_type": "markdown",
   "metadata": {
    "colab_type": "text",
    "id": "18heJagiyHoF"
   },
   "source": [
    "### **Import library**"
   ]
  },
  {
   "cell_type": "code",
   "execution_count": 72,
   "metadata": {
    "colab": {
     "base_uri": "https://localhost:8080/",
     "height": 72
    },
    "colab_type": "code",
    "id": "0Egq_rNsxtIj",
    "outputId": "9a158a1d-ba81-4f2e-9b9e-66ae5ce78916"
   },
   "outputs": [],
   "source": [
    "import seaborn as sns\n",
    "sns.set(style='ticks')\n",
    "import matplotlib.pyplot as plt"
   ]
  },
  {
   "cell_type": "markdown",
   "metadata": {
    "colab_type": "text",
    "id": "NiarmFbOdG3H"
   },
   "source": [
    "### **Frequency plot of the 2 bioactivity classes**"
   ]
  },
  {
   "cell_type": "code",
   "execution_count": 81,
   "metadata": {
    "colab": {
     "base_uri": "https://localhost:8080/",
     "height": 367
    },
    "colab_type": "code",
    "id": "w2Ia0iycdMO2",
    "outputId": "34409d5f-d826-4bcb-8167-2d208fbdf5d8"
   },
   "outputs": [
    {
     "data": {
      "image/png": "[encoded data removed]",
      "text/plain": [
       "<Figure size 550x550 with 1 Axes>"
      ]
     },
     "metadata": {},
     "output_type": "display_data"
    }
   ],
   "source": [
    "plt.figure(figsize=(5.5, 5.5))\n",
    "sns.countplot(x='bioactivity_class', data=df_2class, edgecolor='black', hue='bioactivity_class', legend=False)\n",
    "plt.xlabel('Bioactivity class', fontsize=14, fontweight='bold')\n",
    "plt.ylabel('Frequency', fontsize=14, fontweight='bold')\n",
    "plt.savefig('materials/plot_bioactivity_class.pdf')"
   ]
  },
  {
   "cell_type": "markdown",
   "metadata": {
    "colab_type": "text",
    "id": "wB68NKVG0j68"
   },
   "source": [
    "### **Scatter plot of MW versus LogP**\n",
    "\n",
    "It can be seen that the 2 bioactivity classes are spanning similar chemical spaces as evident by the scatter plot of MW vs LogP."
   ]
  },
  {
   "cell_type": "code",
   "execution_count": 83,
   "metadata": {
    "colab": {
     "base_uri": "https://localhost:8080/",
     "height": 367
    },
    "colab_type": "code",
    "id": "F79BNwjF0nub",
    "outputId": "beca351e-2b02-49f9-8712-6ffcdcde425f"
   },
   "outputs": [
    {
     "data": {
      "image/png": "[encoded data removed]",
      "text/plain": [
       "<Figure size 550x550 with 1 Axes>"
      ]
     },
     "metadata": {},
     "output_type": "display_data"
    }
   ],
   "source": [
    "plt.figure(figsize=(5.5, 5.5))\n",
    "sns.scatterplot(x='MW', y='LogP', data=df_2class, hue='bioactivity_class', size='pIC50', edgecolor='black', alpha=0.7)\n",
    "plt.xlabel('MW', fontsize=14, fontweight='bold')\n",
    "plt.ylabel('LogP', fontsize=14, fontweight='bold')\n",
    "plt.legend(bbox_to_anchor=(1.05, 1), loc=2, borderaxespad=0)\n",
    "plt.savefig('materials/plot_MW_vs_LogP.pdf')"
   ]
  },
  {
   "cell_type": "markdown",
   "metadata": {
    "colab_type": "text",
    "id": "oLAfyRwHyJfX"
   },
   "source": [
    "### **Box plots**"
   ]
  },
  {
   "cell_type": "markdown",
   "metadata": {
    "colab_type": "text",
    "id": "1n1uIAivyOkY"
   },
   "source": [
    "#### **pIC50 value**"
   ]
  },
  {
   "cell_type": "code",
   "execution_count": 86,
   "metadata": {
    "colab": {
     "base_uri": "https://localhost:8080/",
     "height": 367
    },
    "colab_type": "code",
    "id": "EpPviw0hxue6",
    "outputId": "e152d135-be08-4916-9494-49990106efa9"
   },
   "outputs": [
    {
     "data": {
      "image/png": "[encoded data removed]",
      "text/plain": [
       "<Figure size 550x550 with 1 Axes>"
      ]
     },
     "metadata": {},
     "output_type": "display_data"
    }
   ],
   "source": [
    "plt.figure(figsize=(5.5, 5.5))\n",
    "\n",
    "sns.boxplot(x='bioactivity_class', y='pIC50', data=df_2class, hue='bioactivity_class')\n",
    "plt.xlabel('Bioactivity class', fontsize=14, fontweight='bold')\n",
    "plt.ylabel('pIC50 value', fontsize=14, fontweight='bold')\n",
    "plt.savefig('materials/plot_ic50.pdf')"
   ]
  },
  {
   "cell_type": "markdown",
   "metadata": {
    "colab_type": "text",
    "id": "PsOqKyysCZCv"
   },
   "source": [
    "**Statistical analysis | Mann-Whitney U Test**\n",
    "\n",
    "The Mann-Whitney U test, also known as the Wilcoxon rank-sum test, is a non-parametric test used to determine whether there is a significant difference between the distributions of two independent samples. It is often used when the assumptions of the parametric tests (like the t-test) are not met, particularly the assumption of normality."
   ]
  },
  {
   "cell_type": "code",
   "execution_count": 95,
   "metadata": {
    "colab": {},
    "colab_type": "code",
    "id": "LPdV1vDnWBsh"
   },
   "outputs": [],
   "source": [
    "def mannwhitney(descriptor, verbose=False):\n",
    "    # https://machinelearningmastery.com/nonparametric-statistical-significance-tests-in-python/\n",
    "    from numpy.random import seed\n",
    "    from numpy.random import randn\n",
    "    from scipy.stats import mannwhitneyu\n",
    "\n",
    "    # seed the random number generator\n",
    "    seed(1)\n",
    "    \n",
    "    # actives and inactives\n",
    "    selection = [descriptor, 'bioactivity_class']\n",
    "    df = df_2class[selection]\n",
    "    active = df[df.bioactivity_class == 'active']\n",
    "    active = active[descriptor]\n",
    "    \n",
    "    selection = [descriptor, 'bioactivity_class']\n",
    "    df = df_2class[selection]\n",
    "    inactive = df[df.bioactivity_class == 'inactive']\n",
    "    inactive = inactive[descriptor]\n",
    "    \n",
    "    # compare samples\n",
    "    stat, p = mannwhitneyu(active, inactive)\n",
    "    #print('Statistics=%.3f, p=%.3f' % (stat, p))\n",
    "    \n",
    "    # interpret\n",
    "    alpha = 0.05\n",
    "    if p > alpha:\n",
    "        interpretation = 'Same distribution (fail to reject H0)'\n",
    "    else:\n",
    "        interpretation = 'Different distribution (reject H0)'\n",
    "    \n",
    "    results = pd.DataFrame({'Descriptor':descriptor,\n",
    "                          'Statistics':stat,\n",
    "                          'p':p,\n",
    "                          'alpha':alpha,\n",
    "                          'Interpretation':interpretation}, index=[0])\n",
    "    filename = 'materials/mannwhitneyu_' + descriptor + '.csv'\n",
    "    results.to_csv(filename)\n",
    "    \n",
    "    return results"
   ]
  },
  {
   "cell_type": "code",
   "execution_count": 96,
   "metadata": {
    "colab": {
     "base_uri": "https://localhost:8080/",
     "height": 79
    },
    "colab_type": "code",
    "id": "HZmUgOmdYVm5",
    "outputId": "6996e4db-2720-4df7-8691-12a5c06c4020"
   },
   "outputs": [
    {
     "data": {
      "text/html": [
       "<div>\n",
       "<style scoped>\n",
       "    .dataframe tbody tr th:only-of-type {\n",
       "        vertical-align: middle;\n",
       "    }\n",
       "\n",
       "    .dataframe tbody tr th {\n",
       "        vertical-align: top;\n",
       "    }\n",
       "\n",
       "    .dataframe thead th {\n",
       "        text-align: right;\n",
       "    }\n",
       "</style>\n",
       "<table border=\"1\" class=\"dataframe\">\n",
       "  <thead>\n",
       "    <tr style=\"text-align: right;\">\n",
       "      <th></th>\n",
       "      <th>Descriptor</th>\n",
       "      <th>Statistics</th>\n",
       "      <th>p</th>\n",
       "      <th>alpha</th>\n",
       "      <th>Interpretation</th>\n",
       "    </tr>\n",
       "  </thead>\n",
       "  <tbody>\n",
       "    <tr>\n",
       "      <th>0</th>\n",
       "      <td>pIC50</td>\n",
       "      <td>753984.0</td>\n",
       "      <td>3.414262e-269</td>\n",
       "      <td>0.05</td>\n",
       "      <td>Different distribution (reject H0)</td>\n",
       "    </tr>\n",
       "  </tbody>\n",
       "</table>\n",
       "</div>"
      ],
      "text/plain": [
       "  Descriptor  Statistics              p  alpha  \\\n",
       "0      pIC50    753984.0  3.414262e-269   0.05   \n",
       "\n",
       "                       Interpretation  \n",
       "0  Different distribution (reject H0)  "
      ]
     },
     "execution_count": 96,
     "metadata": {},
     "output_type": "execute_result"
    }
   ],
   "source": [
    "mannwhitney('pIC50')"
   ]
  },
  {
   "cell_type": "markdown",
   "metadata": {
    "colab_type": "text",
    "id": "o2UlCwPmyTBq"
   },
   "source": [
    "#### **MW**"
   ]
  },
  {
   "cell_type": "code",
   "execution_count": 98,
   "metadata": {
    "colab": {
     "base_uri": "https://localhost:8080/",
     "height": 367
    },
    "colab_type": "code",
    "id": "ZNlEEsDEx3m6",
    "outputId": "50836563-3a3c-4bb4-9ae6-8db38aeaf6f0"
   },
   "outputs": [
    {
     "data": {
      "image/png": "[encoded data removed]",
      "text/plain": [
       "<Figure size 550x550 with 1 Axes>"
      ]
     },
     "metadata": {},
     "output_type": "display_data"
    }
   ],
   "source": [
    "plt.figure(figsize=(5.5, 5.5))\n",
    "sns.boxplot(x='bioactivity_class', y='MW', data=df_2class, hue='bioactivity_class')\n",
    "plt.xlabel('Bioactivity class', fontsize=14, fontweight='bold')\n",
    "plt.ylabel('MW', fontsize=14, fontweight='bold')\n",
    "plt.savefig('materials/plot_MW.pdf')"
   ]
  },
  {
   "cell_type": "code",
   "execution_count": 99,
   "metadata": {
    "colab": {
     "base_uri": "https://localhost:8080/",
     "height": 79
    },
    "colab_type": "code",
    "id": "wRl2FvgHYqaG",
    "outputId": "182737ed-20ce-414f-850e-9c11af877d71"
   },
   "outputs": [
    {
     "data": {
      "text/html": [
       "<div>\n",
       "<style scoped>\n",
       "    .dataframe tbody tr th:only-of-type {\n",
       "        vertical-align: middle;\n",
       "    }\n",
       "\n",
       "    .dataframe tbody tr th {\n",
       "        vertical-align: top;\n",
       "    }\n",
       "\n",
       "    .dataframe thead th {\n",
       "        text-align: right;\n",
       "    }\n",
       "</style>\n",
       "<table border=\"1\" class=\"dataframe\">\n",
       "  <thead>\n",
       "    <tr style=\"text-align: right;\">\n",
       "      <th></th>\n",
       "      <th>Descriptor</th>\n",
       "      <th>Statistics</th>\n",
       "      <th>p</th>\n",
       "      <th>alpha</th>\n",
       "      <th>Interpretation</th>\n",
       "    </tr>\n",
       "  </thead>\n",
       "  <tbody>\n",
       "    <tr>\n",
       "      <th>0</th>\n",
       "      <td>MW</td>\n",
       "      <td>432537.0</td>\n",
       "      <td>2.411444e-07</td>\n",
       "      <td>0.05</td>\n",
       "      <td>Different distribution (reject H0)</td>\n",
       "    </tr>\n",
       "  </tbody>\n",
       "</table>\n",
       "</div>"
      ],
      "text/plain": [
       "  Descriptor  Statistics             p  alpha  \\\n",
       "0         MW    432537.0  2.411444e-07   0.05   \n",
       "\n",
       "                       Interpretation  \n",
       "0  Different distribution (reject H0)  "
      ]
     },
     "execution_count": 99,
     "metadata": {},
     "output_type": "execute_result"
    }
   ],
   "source": [
    "mannwhitney('MW')"
   ]
  },
  {
   "cell_type": "markdown",
   "metadata": {
    "colab_type": "text",
    "id": "z5hyBhGqyc6J"
   },
   "source": [
    "#### **LogP**"
   ]
  },
  {
   "cell_type": "code",
   "execution_count": 100,
   "metadata": {
    "colab": {
     "base_uri": "https://localhost:8080/",
     "height": 367
    },
    "colab_type": "code",
    "id": "liEtkpI4yX9t",
    "outputId": "8aa9b4de-6df6-4da6-ed4c-f9376f290d9f"
   },
   "outputs": [
    {
     "data": {
      "image/png": "[encoded data removed]",
      "text/plain": [
       "<Figure size 550x550 with 1 Axes>"
      ]
     },
     "metadata": {},
     "output_type": "display_data"
    }
   ],
   "source": [
    "plt.figure(figsize=(5.5, 5.5))\n",
    "sns.boxplot(x='bioactivity_class', y='LogP', data=df_2class, hue='bioactivity_class')\n",
    "plt.xlabel('Bioactivity class', fontsize=14, fontweight='bold')\n",
    "plt.ylabel('LogP', fontsize=14, fontweight='bold')\n",
    "plt.savefig('materials/plot_LogP.pdf')"
   ]
  },
  {
   "cell_type": "markdown",
   "metadata": {
    "colab_type": "text",
    "id": "2KgV5v_oFLXh"
   },
   "source": [
    "**Statistical analysis | Mann-Whitney U Test**"
   ]
  },
  {
   "cell_type": "code",
   "execution_count": 101,
   "metadata": {
    "colab": {
     "base_uri": "https://localhost:8080/",
     "height": 79
    },
    "colab_type": "code",
    "id": "B61UsGMIFLuE",
    "outputId": "53899c37-0603-4879-c4ed-25c07b4455d9"
   },
   "outputs": [
    {
     "data": {
      "text/html": [
       "<div>\n",
       "<style scoped>\n",
       "    .dataframe tbody tr th:only-of-type {\n",
       "        vertical-align: middle;\n",
       "    }\n",
       "\n",
       "    .dataframe tbody tr th {\n",
       "        vertical-align: top;\n",
       "    }\n",
       "\n",
       "    .dataframe thead th {\n",
       "        text-align: right;\n",
       "    }\n",
       "</style>\n",
       "<table border=\"1\" class=\"dataframe\">\n",
       "  <thead>\n",
       "    <tr style=\"text-align: right;\">\n",
       "      <th></th>\n",
       "      <th>Descriptor</th>\n",
       "      <th>Statistics</th>\n",
       "      <th>p</th>\n",
       "      <th>alpha</th>\n",
       "      <th>Interpretation</th>\n",
       "    </tr>\n",
       "  </thead>\n",
       "  <tbody>\n",
       "    <tr>\n",
       "      <th>0</th>\n",
       "      <td>LogP</td>\n",
       "      <td>400255.0</td>\n",
       "      <td>0.030548</td>\n",
       "      <td>0.05</td>\n",
       "      <td>Different distribution (reject H0)</td>\n",
       "    </tr>\n",
       "  </tbody>\n",
       "</table>\n",
       "</div>"
      ],
      "text/plain": [
       "  Descriptor  Statistics         p  alpha                      Interpretation\n",
       "0       LogP    400255.0  0.030548   0.05  Different distribution (reject H0)"
      ]
     },
     "execution_count": 101,
     "metadata": {},
     "output_type": "execute_result"
    }
   ],
   "source": [
    "mannwhitney('LogP')"
   ]
  },
  {
   "cell_type": "markdown",
   "metadata": {
    "colab_type": "text",
    "id": "4db7LZLRym2k"
   },
   "source": [
    "#### **NumHDonors**"
   ]
  },
  {
   "cell_type": "code",
   "execution_count": 102,
   "metadata": {
    "colab": {
     "base_uri": "https://localhost:8080/",
     "height": 367
    },
    "colab_type": "code",
    "id": "iru1JPM1yg5A",
    "outputId": "4ab22853-c3de-4d99-ff3a-05b95f232333"
   },
   "outputs": [
    {
     "data": {
      "image/png": "[encoded data removed]",
      "text/plain": [
       "<Figure size 550x550 with 1 Axes>"
      ]
     },
     "metadata": {},
     "output_type": "display_data"
    }
   ],
   "source": [
    "plt.figure(figsize=(5.5, 5.5))\n",
    "sns.boxplot(x='bioactivity_class', y='NumHDonors', data=df_2class, hue='bioactivity_class')\n",
    "plt.xlabel('Bioactivity class', fontsize=14, fontweight='bold')\n",
    "plt.ylabel('NumHDonors', fontsize=14, fontweight='bold')\n",
    "plt.savefig('materials/plot_NumHDonors.pdf')"
   ]
  },
  {
   "cell_type": "markdown",
   "metadata": {
    "colab_type": "text",
    "id": "vM5vZWanFe3c"
   },
   "source": [
    "**Statistical analysis | Mann-Whitney U Test**"
   ]
  },
  {
   "cell_type": "code",
   "execution_count": 103,
   "metadata": {
    "colab": {
     "base_uri": "https://localhost:8080/",
     "height": 79
    },
    "colab_type": "code",
    "id": "mS-rOqq7Fd1E",
    "outputId": "6d5609b5-8f4a-4e1b-ac76-841a1d93f212"
   },
   "outputs": [
    {
     "data": {
      "text/html": [
       "<div>\n",
       "<style scoped>\n",
       "    .dataframe tbody tr th:only-of-type {\n",
       "        vertical-align: middle;\n",
       "    }\n",
       "\n",
       "    .dataframe tbody tr th {\n",
       "        vertical-align: top;\n",
       "    }\n",
       "\n",
       "    .dataframe thead th {\n",
       "        text-align: right;\n",
       "    }\n",
       "</style>\n",
       "<table border=\"1\" class=\"dataframe\">\n",
       "  <thead>\n",
       "    <tr style=\"text-align: right;\">\n",
       "      <th></th>\n",
       "      <th>Descriptor</th>\n",
       "      <th>Statistics</th>\n",
       "      <th>p</th>\n",
       "      <th>alpha</th>\n",
       "      <th>Interpretation</th>\n",
       "    </tr>\n",
       "  </thead>\n",
       "  <tbody>\n",
       "    <tr>\n",
       "      <th>0</th>\n",
       "      <td>NumHDonors</td>\n",
       "      <td>331709.0</td>\n",
       "      <td>0.000002</td>\n",
       "      <td>0.05</td>\n",
       "      <td>Different distribution (reject H0)</td>\n",
       "    </tr>\n",
       "  </tbody>\n",
       "</table>\n",
       "</div>"
      ],
      "text/plain": [
       "   Descriptor  Statistics         p  alpha                      Interpretation\n",
       "0  NumHDonors    331709.0  0.000002   0.05  Different distribution (reject H0)"
      ]
     },
     "execution_count": 103,
     "metadata": {},
     "output_type": "execute_result"
    }
   ],
   "source": [
    "mannwhitney('NumHDonors')"
   ]
  },
  {
   "cell_type": "markdown",
   "metadata": {
    "colab_type": "text",
    "id": "yOYQ3QiSyu7-"
   },
   "source": [
    "#### **NumHAcceptors**"
   ]
  },
  {
   "cell_type": "code",
   "execution_count": 104,
   "metadata": {
    "colab": {
     "base_uri": "https://localhost:8080/",
     "height": 367
    },
    "colab_type": "code",
    "id": "yCw6tgNCyxHf",
    "outputId": "e53b4169-d3d6-4b4e-d8cf-d0378ca54ddc"
   },
   "outputs": [
    {
     "data": {
      "image/png": "[encoded data removed]",
      "text/plain": [
       "<Figure size 550x550 with 1 Axes>"
      ]
     },
     "metadata": {},
     "output_type": "display_data"
    }
   ],
   "source": [
    "plt.figure(figsize=(5.5, 5.5))\n",
    "sns.boxplot(x='bioactivity_class', y='NumHAcceptors', data=df_2class, hue='bioactivity_class')\n",
    "plt.xlabel('Bioactivity class', fontsize=14, fontweight='bold')\n",
    "plt.ylabel('NumHAcceptors', fontsize=14, fontweight='bold')\n",
    "plt.savefig('materials/plot_NumHAcceptors.pdf')"
   ]
  },
  {
   "cell_type": "code",
   "execution_count": 105,
   "metadata": {
    "colab": {
     "base_uri": "https://localhost:8080/",
     "height": 79
    },
    "colab_type": "code",
    "id": "NEQoDZctFtGG",
    "outputId": "eb994475-ed64-4633-c67b-a88e2c3ecc48"
   },
   "outputs": [
    {
     "data": {
      "text/html": [
       "<div>\n",
       "<style scoped>\n",
       "    .dataframe tbody tr th:only-of-type {\n",
       "        vertical-align: middle;\n",
       "    }\n",
       "\n",
       "    .dataframe tbody tr th {\n",
       "        vertical-align: top;\n",
       "    }\n",
       "\n",
       "    .dataframe thead th {\n",
       "        text-align: right;\n",
       "    }\n",
       "</style>\n",
       "<table border=\"1\" class=\"dataframe\">\n",
       "  <thead>\n",
       "    <tr style=\"text-align: right;\">\n",
       "      <th></th>\n",
       "      <th>Descriptor</th>\n",
       "      <th>Statistics</th>\n",
       "      <th>p</th>\n",
       "      <th>alpha</th>\n",
       "      <th>Interpretation</th>\n",
       "    </tr>\n",
       "  </thead>\n",
       "  <tbody>\n",
       "    <tr>\n",
       "      <th>0</th>\n",
       "      <td>NumHAcceptors</td>\n",
       "      <td>399133.0</td>\n",
       "      <td>0.035866</td>\n",
       "      <td>0.05</td>\n",
       "      <td>Different distribution (reject H0)</td>\n",
       "    </tr>\n",
       "  </tbody>\n",
       "</table>\n",
       "</div>"
      ],
      "text/plain": [
       "      Descriptor  Statistics         p  alpha  \\\n",
       "0  NumHAcceptors    399133.0  0.035866   0.05   \n",
       "\n",
       "                       Interpretation  \n",
       "0  Different distribution (reject H0)  "
      ]
     },
     "execution_count": 105,
     "metadata": {},
     "output_type": "execute_result"
    }
   ],
   "source": [
    "mannwhitney('NumHAcceptors')"
   ]
  },
  {
   "cell_type": "markdown",
   "metadata": {
    "colab_type": "text",
    "id": "p4QjdHVjKYum"
   },
   "source": [
    "#### **Interpretation of Statistical Results**"
   ]
  },
  {
   "cell_type": "markdown",
   "metadata": {
    "colab_type": "text",
    "id": "mSoOBIqfLbDs"
   },
   "source": [
    "##### **Box Plots**\n",
    "\n",
    "###### **pIC50 values**\n",
    "\n",
    "Taking a look at pIC50 values, the **actives** and **inactives** displayed ***statistically significant difference***, which is to be expected since threshold values (``IC50 < 1,000 nM = Actives while IC50 > 10,000 nM = Inactives``, corresponding to ``pIC50 > 6 = Actives and pIC50 < 5 = Inactives``) were used to define actives and inactives.\n",
    "\n",
    "###### **Lipinski's descriptors**\n",
    "\n",
    "Of the 4 Lipinski's descriptors (MW, LogP, NumHDonors and NumHAcceptors) all of them show ***statistically significant difference*** between **actives** and **inactives**.\n",
    "\n",
    "---"
   ]
  },
  {
   "cell_type": "code",
   "execution_count": 40,
   "metadata": {
    "colab": {
     "base_uri": "https://localhost:8080/",
     "height": 243
    },
    "colab_type": "code",
    "id": "GW1ZSsfJWqbM",
    "outputId": "def6e823-0194-4848-fb5e-0d86e1ad88f4"
   },
   "outputs": [
    {
     "name": "stdout",
     "output_type": "stream",
     "text": [
      "  adding: mannwhitneyu_NumHAcceptors.csv (deflated 12%)\n",
      "  adding: mannwhitneyu_NumHDonors.csv (deflated 9%)\n",
      "  adding: plot_LogP.pdf (deflated 37%)\n",
      "  adding: mannwhitneyu_LogP.csv (deflated 7%)\n",
      "  adding: plot_MW_vs_LogP.pdf (deflated 15%)\n",
      "  adding: plot_ic50.pdf (deflated 37%)\n",
      "  adding: plot_NumHDonors.pdf (deflated 38%)\n",
      "  adding: plot_NumHAcceptors.pdf (deflated 37%)\n",
      "  adding: plot_MW.pdf (deflated 38%)\n",
      "  adding: mannwhitneyu_pIC50.csv (deflated 10%)\n",
      "  adding: bioactivity_data_preprocessed.csv (deflated 80%)\n",
      "  adding: plot_bioactivity_class.pdf (deflated 38%)\n",
      "  adding: mannwhitneyu_MW.csv (deflated 9%)\n"
     ]
    }
   ],
   "source": [
    "! zip -r results.zip . -i *.csv *.pdf"
   ]
  },
  {
   "cell_type": "code",
   "execution_count": null,
   "metadata": {
    "colab": {},
    "colab_type": "code",
    "id": "LMWOG2UIXEg-"
   },
   "outputs": [],
   "source": []
  }
 ],
 "metadata": {
  "colab": {
   "collapsed_sections": [],
   "name": "CDD-ML-Part-2-Exploratory-Data-Analysis.ipynb",
   "provenance": []
  },
  "kernelspec": {
   "display_name": "Python 3 (ipykernel)",
   "language": "python",
   "name": "python3"
  },
  "language_info": {
   "codemirror_mode": {
    "name": "ipython",
    "version": 3
   },
   "file_extension": ".py",
   "mimetype": "text/x-python",
   "name": "python",
   "nbconvert_exporter": "python",
   "pygments_lexer": "ipython3",
   "version": "3.11.8"
  }
 },
 "nbformat": 4,
 "nbformat_minor": 4
}
